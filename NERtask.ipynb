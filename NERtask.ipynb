{
  "nbformat": 4,
  "nbformat_minor": 0,
  "metadata": {
    "colab": {
      "provenance": []
    },
    "kernelspec": {
      "name": "python3",
      "display_name": "Python 3"
    },
    "language_info": {
      "name": "python"
    }
  },
  "cells": [
    {
      "cell_type": "code",
      "execution_count": 158,
      "metadata": {
        "id": "nObfQnlTEN8-"
      },
      "outputs": [],
      "source": [
        "import pandas as pd\n",
        "import spacy\n",
        "from spacy import displacy\n",
        "filename='---' #name of file containing transcript"
      ]
    },
    {
      "cell_type": "code",
      "source": [
        "#Function read the text file into a dataframe named \"df\"\n",
        "#Two Column are made named \"Speaker\" , \" Dialogue\"\n",
        "def txt_to_df (filename):\n",
        "   df=pd.read_csv(filename,sep=':',names=[\"Speaker\",\"Dialogue\"])\n",
        "   return df"
      ],
      "metadata": {
        "id": "vfQ_jmbSHKI2"
      },
      "execution_count": 159,
      "outputs": []
    },
    {
      "cell_type": "code",
      "source": [
        "# this function extract all the name and entity from the \"Dialogue\" Column of the dataframe and store them in a list called 'ner'\n",
        "def extract_ner(df):\n",
        "  NER = spacy.load(\"en_core_web_sm\",disable=[\"tok2vec\", \"tagger\", \"parser\", \"attribute_ruler\", \"lemmatizer\"])\n",
        "  ner=[]\n",
        "  for i in range(0,len(df)):\n",
        "    text=NER(df[\"Dialogue\"][i])\n",
        "    ner.append(list(text.ents))\n",
        "  return ner"
      ],
      "metadata": {
        "id": "f6GX-NNHHK3k"
      },
      "execution_count": 161,
      "outputs": []
    },
    {
      "cell_type": "code",
      "source": [
        "# Extract the only Speaker names and store them in list called Speaker_names \n",
        "def extract_speaker(names):\n",
        "  for d in names:\n",
        "    for word in d[:]:\n",
        "      if(word.label_!=\"PERSON\"):\n",
        "          d.remove(word)\n",
        "  return names"
      ],
      "metadata": {
        "id": "zRgejLRMHOsH"
      },
      "execution_count": 162,
      "outputs": []
    },
    {
      "cell_type": "code",
      "source": [
        "# a Entity Column was added in dataframe which hold the speaker name of desired utterances\n",
        "def add_name_dataframe (df,names):\n",
        "  entity=[]\n",
        "  for n in names:\n",
        "    entity.append(n)\n",
        "  df[\"Entity\"]=entity\n",
        "  return df"
      ],
      "metadata": {
        "id": "DeKIbblEHQyf"
      },
      "execution_count": 163,
      "outputs": []
    },
    {
      "cell_type": "code",
      "source": [
        "# a function is to check the list contain item or not\n",
        "def find_item(list, item):\n",
        "  for i in range(0,len(list)):\n",
        "      if (list[i]==item):\n",
        "        return True\n",
        "  \n",
        "  return False"
      ],
      "metadata": {
        "id": "nZQaqxB9HTCU"
      },
      "execution_count": 164,
      "outputs": []
    },
    {
      "cell_type": "code",
      "source": [
        "# Replace function will replace the speaker name with their correct name in dataframe\n",
        "def replace(df,Occur):\n",
        "  for i in range(0,len(df)):\n",
        "    if len(df[\"Entity\"][i])>1:\n",
        "      for j in range(0,len(df[\"Entity\"][i])):\n",
        "         if(find_item(Occur,str(df[\"Entity\"][i][j])))!=True:\n",
        "          if (find_item(Occur,str(df[\"Speaker\"][i]))!= True):\n",
        "              df[\"Speaker\"]=df[\"Speaker\"].replace([df['Speaker'][i]],[str(df[\"Entity\"][i][j])])\n",
        "              Occur.append(str(df[\"Entity\"][i][j]))\n",
        "    elif (len(df[\"Entity\"][i])==1 and (not(find_item (Occur,str(df[\"Entity\"][i][0]))))):\n",
        "      if (find_item(Occur,str(df[\"Speaker\"][i]))!= True):\n",
        "        Occur.append(str(df[\"Entity\"][i][0]))\n",
        "        df[\"Speaker\"]=df[\"Speaker\"].replace([df['Speaker'][i]],[str(df[\"Entity\"][i][0])])\n",
        "  df.drop('Entity', inplace=True, axis=1)\n",
        "  return df"
      ],
      "metadata": {
        "id": "4-sZIaqXHVns"
      },
      "execution_count": 165,
      "outputs": []
    },
    {
      "cell_type": "code",
      "source": [
        "# function update the transcript file with speaker name\n",
        "def df_to_txt(df,filename):\n",
        "  with open(filename,'w') as file:\n",
        "    pass\n",
        "  df.to_csv(r'transcript.txt', header=None, index=None, sep=':', mode='a')"
      ],
      "metadata": {
        "id": "QqsHW-0zHY_U"
      },
      "execution_count": 173,
      "outputs": []
    },
    {
      "cell_type": "code",
      "source": [
        "Occur=[] # it hold the speaker name which is already assigned \n",
        "df=txt_to_df(filename)\n",
        "ner=extract_ner(df)\n",
        "Speaker_names=extract_speaker(ner)\n",
        "df=add_name_dataframe (df,Speaker_names)\n",
        "df=replace(df,Occur)\n",
        "df_to_txt(df,filename)\n"
      ],
      "metadata": {
        "id": "6bwdWMR9Ly8n"
      },
      "execution_count": 174,
      "outputs": []
    },
    {
      "cell_type": "code",
      "source": [
        "df"
      ],
      "metadata": {
        "colab": {
          "base_uri": "https://localhost:8080/",
          "height": 269
        },
        "id": "35z_6exfNL9-",
        "outputId": "24b12fb3-e819-45c4-89b2-9b15669edb88"
      },
      "execution_count": 175,
      "outputs": [
        {
          "output_type": "execute_result",
          "data": {
            "text/plain": [
              "         Speaker                                           Dialogue\n",
              "0  Alice Roberts   Hello, I’d like to introduce myself. My name ...\n",
              "1    David Smith   Hi, I’m David Smith and I work in book sales ...\n",
              "2          Sally   Thanks David. So as David said, I’m Sally, Sa...\n",
              "3     Paul Owens   Nice to meet everyone, although I already kno...\n",
              "4  Alice Roberts   Thanks everyone, and yes just to bring David ...\n",
              "5          Sally                  Ah, that explains why we’re here!\n",
              "6    David Smith                                               Yes."
            ],
            "text/html": [
              "\n",
              "  <div id=\"df-f23b8390-3552-462a-8ba9-99af8aa3b16d\">\n",
              "    <div class=\"colab-df-container\">\n",
              "      <div>\n",
              "<style scoped>\n",
              "    .dataframe tbody tr th:only-of-type {\n",
              "        vertical-align: middle;\n",
              "    }\n",
              "\n",
              "    .dataframe tbody tr th {\n",
              "        vertical-align: top;\n",
              "    }\n",
              "\n",
              "    .dataframe thead th {\n",
              "        text-align: right;\n",
              "    }\n",
              "</style>\n",
              "<table border=\"1\" class=\"dataframe\">\n",
              "  <thead>\n",
              "    <tr style=\"text-align: right;\">\n",
              "      <th></th>\n",
              "      <th>Speaker</th>\n",
              "      <th>Dialogue</th>\n",
              "    </tr>\n",
              "  </thead>\n",
              "  <tbody>\n",
              "    <tr>\n",
              "      <th>0</th>\n",
              "      <td>Alice Roberts</td>\n",
              "      <td>Hello, I’d like to introduce myself. My name ...</td>\n",
              "    </tr>\n",
              "    <tr>\n",
              "      <th>1</th>\n",
              "      <td>David Smith</td>\n",
              "      <td>Hi, I’m David Smith and I work in book sales ...</td>\n",
              "    </tr>\n",
              "    <tr>\n",
              "      <th>2</th>\n",
              "      <td>Sally</td>\n",
              "      <td>Thanks David. So as David said, I’m Sally, Sa...</td>\n",
              "    </tr>\n",
              "    <tr>\n",
              "      <th>3</th>\n",
              "      <td>Paul Owens</td>\n",
              "      <td>Nice to meet everyone, although I already kno...</td>\n",
              "    </tr>\n",
              "    <tr>\n",
              "      <th>4</th>\n",
              "      <td>Alice Roberts</td>\n",
              "      <td>Thanks everyone, and yes just to bring David ...</td>\n",
              "    </tr>\n",
              "    <tr>\n",
              "      <th>5</th>\n",
              "      <td>Sally</td>\n",
              "      <td>Ah, that explains why we’re here!</td>\n",
              "    </tr>\n",
              "    <tr>\n",
              "      <th>6</th>\n",
              "      <td>David Smith</td>\n",
              "      <td>Yes.</td>\n",
              "    </tr>\n",
              "  </tbody>\n",
              "</table>\n",
              "</div>\n",
              "      <button class=\"colab-df-convert\" onclick=\"convertToInteractive('df-f23b8390-3552-462a-8ba9-99af8aa3b16d')\"\n",
              "              title=\"Convert this dataframe to an interactive table.\"\n",
              "              style=\"display:none;\">\n",
              "        \n",
              "  <svg xmlns=\"http://www.w3.org/2000/svg\" height=\"24px\"viewBox=\"0 0 24 24\"\n",
              "       width=\"24px\">\n",
              "    <path d=\"M0 0h24v24H0V0z\" fill=\"none\"/>\n",
              "    <path d=\"M18.56 5.44l.94 2.06.94-2.06 2.06-.94-2.06-.94-.94-2.06-.94 2.06-2.06.94zm-11 1L8.5 8.5l.94-2.06 2.06-.94-2.06-.94L8.5 2.5l-.94 2.06-2.06.94zm10 10l.94 2.06.94-2.06 2.06-.94-2.06-.94-.94-2.06-.94 2.06-2.06.94z\"/><path d=\"M17.41 7.96l-1.37-1.37c-.4-.4-.92-.59-1.43-.59-.52 0-1.04.2-1.43.59L10.3 9.45l-7.72 7.72c-.78.78-.78 2.05 0 2.83L4 21.41c.39.39.9.59 1.41.59.51 0 1.02-.2 1.41-.59l7.78-7.78 2.81-2.81c.8-.78.8-2.07 0-2.86zM5.41 20L4 18.59l7.72-7.72 1.47 1.35L5.41 20z\"/>\n",
              "  </svg>\n",
              "      </button>\n",
              "      \n",
              "  <style>\n",
              "    .colab-df-container {\n",
              "      display:flex;\n",
              "      flex-wrap:wrap;\n",
              "      gap: 12px;\n",
              "    }\n",
              "\n",
              "    .colab-df-convert {\n",
              "      background-color: #E8F0FE;\n",
              "      border: none;\n",
              "      border-radius: 50%;\n",
              "      cursor: pointer;\n",
              "      display: none;\n",
              "      fill: #1967D2;\n",
              "      height: 32px;\n",
              "      padding: 0 0 0 0;\n",
              "      width: 32px;\n",
              "    }\n",
              "\n",
              "    .colab-df-convert:hover {\n",
              "      background-color: #E2EBFA;\n",
              "      box-shadow: 0px 1px 2px rgba(60, 64, 67, 0.3), 0px 1px 3px 1px rgba(60, 64, 67, 0.15);\n",
              "      fill: #174EA6;\n",
              "    }\n",
              "\n",
              "    [theme=dark] .colab-df-convert {\n",
              "      background-color: #3B4455;\n",
              "      fill: #D2E3FC;\n",
              "    }\n",
              "\n",
              "    [theme=dark] .colab-df-convert:hover {\n",
              "      background-color: #434B5C;\n",
              "      box-shadow: 0px 1px 3px 1px rgba(0, 0, 0, 0.15);\n",
              "      filter: drop-shadow(0px 1px 2px rgba(0, 0, 0, 0.3));\n",
              "      fill: #FFFFFF;\n",
              "    }\n",
              "  </style>\n",
              "\n",
              "      <script>\n",
              "        const buttonEl =\n",
              "          document.querySelector('#df-f23b8390-3552-462a-8ba9-99af8aa3b16d button.colab-df-convert');\n",
              "        buttonEl.style.display =\n",
              "          google.colab.kernel.accessAllowed ? 'block' : 'none';\n",
              "\n",
              "        async function convertToInteractive(key) {\n",
              "          const element = document.querySelector('#df-f23b8390-3552-462a-8ba9-99af8aa3b16d');\n",
              "          const dataTable =\n",
              "            await google.colab.kernel.invokeFunction('convertToInteractive',\n",
              "                                                     [key], {});\n",
              "          if (!dataTable) return;\n",
              "\n",
              "          const docLinkHtml = 'Like what you see? Visit the ' +\n",
              "            '<a target=\"_blank\" href=https://colab.research.google.com/notebooks/data_table.ipynb>data table notebook</a>'\n",
              "            + ' to learn more about interactive tables.';\n",
              "          element.innerHTML = '';\n",
              "          dataTable['output_type'] = 'display_data';\n",
              "          await google.colab.output.renderOutput(dataTable, element);\n",
              "          const docLink = document.createElement('div');\n",
              "          docLink.innerHTML = docLinkHtml;\n",
              "          element.appendChild(docLink);\n",
              "        }\n",
              "      </script>\n",
              "    </div>\n",
              "  </div>\n",
              "  "
            ]
          },
          "metadata": {},
          "execution_count": 175
        }
      ]
    },
    {
      "cell_type": "code",
      "source": [],
      "metadata": {
        "id": "3xt7lne5RDFa"
      },
      "execution_count": null,
      "outputs": []
    }
  ]
}